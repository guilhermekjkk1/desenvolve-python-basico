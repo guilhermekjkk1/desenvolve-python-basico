{
  "metadata": {
    "kernelspec": {
      "name": "python",
      "display_name": "Python (Pyodide)",
      "language": "python"
    },
    "language_info": {
      "codemirror_mode": {
        "name": "python",
        "version": 3
      },
      "file_extension": ".py",
      "mimetype": "text/x-python",
      "name": "python",
      "nbconvert_exporter": "python",
      "pygments_lexer": "ipython3",
      "version": "3.8"
    }
  },
  "nbformat_minor": 4,
  "nbformat": 4,
  "cells": [
    {
      "cell_type": "code",
      "source": "valor_por_hora= 20\nhoras_trabalhadas_semana = 40\ntaxa_INSS = 0.10\ntaxa_sindicato = 0.05\n\nsalario_bruto_semanal = valor_por_hora * horas_trabalhadas_semana\nprint(\"Salário semanal bruto: R$\", salario_bruto_semanal)\n\ndesconto_INSS = salario_bruto_semanal * taxa_INSS\ndesconto_sindicato = salario_bruto_semanal * taxa_sindicato\nprint(\"Valor descontado por semana INSS: R$\", desconto_INSS)\nprint(\"Valor descontado por semana pelo sindicato: R$\", desconto_sindicato)\n\nsalario_liquido_semanal = salario_bruto_semanal - desconto_INSS - desconto_sindicato\nprint(\"Salário semanal líquido: R$\", salario_liquido_semanal)\n",
      "metadata": {
        "trusted": true
      },
      "outputs": [
        {
          "name": "stdout",
          "text": "Salário semanal bruto: R$ 800\nValor descontado por semana INSS: R$ 80.0\nValor descontado por semana pelo sindicato: R$ 40.0\nSalário semanal líquido: R$ 680.0\n",
          "output_type": "stream"
        }
      ],
      "execution_count": 2
    },
    {
      "cell_type": "code",
      "source": "valor_por_hora = 20\nhoras_trabalhadas_semana = 40\ntaxa_INSS = 0.10\ntaxa_sindicato = 0.05\nsalario_semanal_bruto, salario_semanal_liquido = (valor_por_hora * horas_trabalhadas_semana,\n                                                  valor_por_hora * horas_trabalhadas_semana \n                                                  - (valor_por_hora * horas_trabalhadas_semana * taxa_INSS)\n                                                  - (valor_por_hora * horas_trabalhadas_semana * taxa_sindicato))\nprint(\"Salário semanal bruto: R$\", salario_semanal_bruto)\nprint(\"Salário semanal líquido com todos os descontos: R$\", salario_semanal_liquido)",
      "metadata": {
        "trusted": true
      },
      "outputs": [
        {
          "name": "stdout",
          "text": "Salário semanal bruto: R$ 800\nSalário semanal líquido com todos os descontos: R$ 680.0\n",
          "output_type": "stream"
        }
      ],
      "execution_count": 3
    },
    {
      "cell_type": "code",
      "source": "quantidade_em_reais = 1000\ntaxa_cambio = 0.69\nvalor_equivalente_em_yuan = quantidade_em_reais * taxa_cambio\nprint(f\"{quantidade_em_reais} BRL equivalem a {valor_equivalente_em_yuan} CNY\")",
      "metadata": {
        "trusted": true
      },
      "outputs": [
        {
          "name": "stdout",
          "text": "1000 BRL equivalem a 690.0 CNY\n",
          "output_type": "stream"
        }
      ],
      "execution_count": 6
    },
    {
      "cell_type": "code",
      "source": "distancia = 42.195\ntempo = 3\nvelocidade_media = distancia/tempo\nprint(velocidade_media)\n\ndistancia_maratona_metros = 42.195 * 1000\ntempo_segundos = 3 * 3600\nvelocidade_media_necessaria_metros_segundo = distancia_maratona_metros / tempo_segundos\nprint(\"Para completar a Maratona Internacional de São Silvestre em 3 horas, o atleta precisa manter uma velocidade média de\", velocidade_media_necessaria_metros_segundo, \"metros/segundo.\")\n",
      "metadata": {
        "trusted": true
      },
      "outputs": [
        {
          "name": "stdout",
          "text": "14.065\nPara completar a Maratona Internacional de São Silvestre em 3 horas, o atleta precisa manter uma velocidade média de 3.9069444444444446 metros/segundo.\n",
          "output_type": "stream"
        }
      ],
      "execution_count": 9
    },
    {
      "cell_type": "code",
      "source": "",
      "metadata": {
        "trusted": true
      },
      "outputs": [],
      "execution_count": null
    }
  ]
}