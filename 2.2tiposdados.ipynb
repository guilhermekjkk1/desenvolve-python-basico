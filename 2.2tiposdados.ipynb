{
  "metadata": {
    "kernelspec": {
      "name": "python",
      "display_name": "Python (Pyodide)",
      "language": "python"
    },
    "language_info": {
      "codemirror_mode": {
        "name": "python",
        "version": 3
      },
      "file_extension": ".py",
      "mimetype": "text/x-python",
      "name": "python",
      "nbconvert_exporter": "python",
      "pygments_lexer": "ipython3",
      "version": "3.8"
    }
  },
  "nbformat_minor": 4,
  "nbformat": 4,
  "cells": [
    {
      "cell_type": "code",
      "source": "v1 = 5\nv2 = 2\nprint (type(v1))\nprint (type(v2))\ndivisão = v1/v2\nprint(divisão)\nprint(type(divisão))",
      "metadata": {
        "trusted": true
      },
      "outputs": [
        {
          "name": "stdout",
          "text": "<class 'int'>\n<class 'int'>\n2.5\n<class 'float'>\n",
          "output_type": "stream"
        }
      ],
      "execution_count": 7
    },
    {
      "cell_type": "code",
      "source": "v1 = \"o resultado é\"\nv2 = 10\nv3 = 3.5\nsoma = v2+v3\nprint(soma)\nprint(type(v1))\nprint(type(v2))\nprint(type(soma))",
      "metadata": {
        "trusted": true
      },
      "outputs": [
        {
          "name": "stdout",
          "text": "13.5\n<class 'str'>\n<class 'int'>\n<class 'float'>\n",
          "output_type": "stream"
        }
      ],
      "execution_count": 15
    },
    {
      "cell_type": "code",
      "source": "v1 = 10\nv2 = 20\naux = v1\nv1 = v2\nv2 = aux\nprint(v1)\nprint (v2)",
      "metadata": {
        "trusted": true
      },
      "outputs": [
        {
          "name": "stdout",
          "text": "20\n10\n",
          "output_type": "stream"
        }
      ],
      "execution_count": 27
    },
    {
      "cell_type": "code",
      "source": "juros = 1.01\nsaldo = 500.0\nsaldo *= juros\nsaldo *= juros\nsaldo *= juros\nprint(\"Após 3 meses meu novo saldo é\")\nprint(saldo)",
      "metadata": {
        "trusted": true
      },
      "outputs": [
        {
          "name": "stdout",
          "text": "Após 3 meses meu novo saldo é\n515.1505\n",
          "output_type": "stream"
        }
      ],
      "execution_count": 28
    },
    {
      "cell_type": "code",
      "source": "",
      "metadata": {
        "trusted": true
      },
      "outputs": [],
      "execution_count": null
    }
  ]
}