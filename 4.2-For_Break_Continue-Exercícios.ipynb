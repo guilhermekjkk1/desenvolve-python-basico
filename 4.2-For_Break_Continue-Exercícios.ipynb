{
  "metadata": {
    "kernelspec": {
      "name": "python",
      "display_name": "Python (Pyodide)",
      "language": "python"
    },
    "language_info": {
      "codemirror_mode": {
        "name": "python",
        "version": 3
      },
      "file_extension": ".py",
      "mimetype": "text/x-python",
      "name": "python",
      "nbconvert_exporter": "python",
      "pygments_lexer": "ipython3",
      "version": "3.8"
    }
  },
  "nbformat_minor": 5,
  "nbformat": 4,
  "cells": [
    {
      "id": "29e89030",
      "cell_type": "markdown",
      "source": "# Módulo 4 - Repetições\n\n## Aulas 4.2 - Comando ```for``` e 4.3 Break e Continue",
      "metadata": {}
    },
    {
      "id": "a45b42df",
      "cell_type": "markdown",
      "source": "### Q1.\n\nCrie um programa em Python que utilize o comando for para imprimir os números de 10 a 1, em ordem decrescente.",
      "metadata": {}
    },
    {
      "id": "55a75b3d",
      "cell_type": "code",
      "source": "for i in range(10, 0, -1):\n    print(i)",
      "metadata": {},
      "outputs": [],
      "execution_count": null
    },
    {
      "id": "94b47c36",
      "cell_type": "markdown",
      "source": "### Q2.\n\nDado um número inteiro positivo informado pelo usuário, crie um programa em Python que utilize o comando for para calcular e exibir a soma dos números de 1 até o número informado. Ou seja, $1 + 2 + 3 + ... + n$\n\nExemplo de interação:\n```\nDigite um número: 5\nA soma dos números de 1 a 5 é 15\n```\n",
      "metadata": {}
    },
    {
      "id": "45b71596",
      "cell_type": "code",
      "source": "numero = int(input(\"Digite um número inteiro positivo: \"))\n\nsoma = 0\nfor i in range(1, numero + 1):\n    soma += i\n\nprint(\"A soma dos números de 1 até\", numero, \"é:\", soma)\n\n",
      "metadata": {},
      "outputs": [],
      "execution_count": null
    },
    {
      "id": "0411d170",
      "cell_type": "markdown",
      "source": "### Q3.\n\nEscreva um programa que lê 10 valores inteiros positivos do usuário e ao final imprime a média dos valores digitados com duas casas decimais.\n\n```\nDigite 10 números positivos:\n3\n2\n12\n14\n20\n42\n19\n0\n8\n1\nA média dos valores digitados é 12.10\n```",
      "metadata": {}
    },
    {
      "id": "3f72f358",
      "cell_type": "code",
      "source": "soma = 0\nfor i in range(10):\n    while True:\n        try:\n            valor = int(input(f\"Digite o {i+1}º valor inteiro positivo: \"))\n            if valor <= 0:\n                print(\"Por favor, digite um valor inteiro positivo.\")\n            else:\n                soma += valor\n                break\n        except ValueError:\n            print(\"Por favor, digite um valor inteiro positivo válido.\")\n\nmedia = soma / 10\nprint(f\"A média dos valores digitados é: {media:.2f}\")\n\n",
      "metadata": {},
      "outputs": [],
      "execution_count": null
    },
    {
      "id": "d62e27ff",
      "cell_type": "markdown",
      "source": "### Q4.\n\nVocê vai criar um sistema que registra os resultados dos jogos do Atlético MG ao longo de um campeonato. Seu sistema vai receber os resultados de todos os jogos do Galo, e deve calcular a pontuação do time sabendo que vitórias valem 3 pontos, empates 1 ponto e derrotas 0 pontos.\n\nEntrada: <br>\nA primeira linha de entrada é um inteiro N com a quantidade jogos do galo. Para cada jogo você deve ler 2 inteiros, o primeiro com a quantidade de gols do galo e o segundo com a quantidade de gols do time oponente. \n\nSaída: <br>\nApresente a soma de vitórias, empates e derrotas do galo, junto com o cálculo da pontuação total.\n\nEx:\n```\nEntrada:\n4\n2\n0\n1\n1\n0\n3\n1\n0\n\nSaída:\nVitórias: 2\nEmpates: 1\nDerrotas: 1\nPontuação: 7\n\n```\n\n\n",
      "metadata": {}
    },
    {
      "id": "d3fdfc2a",
      "cell_type": "code",
      "source": "N = int(input(\"Digite a quantidade de jogos do Atlético MG: \"))\n\nvitorias = 0\nempates = 0\nderrotas = 0\npontuacao_total = 0\n\nfor _ in range(N):\n    gols_galo, gols_oponente = map(int, input(\"Digite os gols do Atlético MG e do time oponente separados por espaço: \").split())\n    if gols_galo > gols_oponente:\n        vitorias += 1\n        pontuacao_total += 3\n    elif gols_galo == gols_oponente:\n        empates += 1\n        pontuacao_total += 1\n    else:\n        derrotas += 1\n\nprint(\"Total de vitórias:\", vitorias)\nprint(\"Total de empates:\", empates)\nprint(\"Total de derrotas:\", derrotas)\nprint(\"Pontuação total:\", pontuacao_total)\n\n",
      "metadata": {},
      "outputs": [],
      "execution_count": null
    },
    {
      "id": "fc98604d",
      "cell_type": "markdown",
      "source": "### Q5.\n\nFaça um programa que lê dois inteiros N e M, e imprime na tela um campo de batalha naval. O tabuleiro deve possuir N linhas e M colunas. A primeira linha é composta por um espaço em branco e o cabeçalho das colunas, ou seja, valores de 1 a M. As N linhas seguintes iniciam com o cabeçalho da linha, ou seja, seu número, seguido de M caracteres \"/\" (barra) indicando uma possível posição jogável. \n\n```\nEntrada:\n5\n4\n\nSaída:\n  1 2 3 4 \n1 / / / / \n2 / / / / \n3 / / / / \n4 / / / / \n5 / / / / \n```\n\nPara esse exercício, precisamos lembrar que o comando print implicitamente adiciona uma quebra de linha ao final da impressão. Podemos interferir no final da impressão adicionando mais uma entrada ao print. No exemplo, finalizamos cada linha com um espaço em branco:\n```python\nprint(\"Texto qualquer\", end = \" \")\n```",
      "metadata": {}
    },
    {
      "id": "a60ef197",
      "cell_type": "code",
      "source": "N = int(input(\"Digite o número de linhas: \"))\nM = int(input(\"Digite o número de colunas: \"))\n\n# Imprime o cabeçalho das colunas\nprint(\" \", end=\" \")\nfor j in range(1, M + 1):\n    print(j, end=\" \")\nprint()\n\n# Imprime o campo de batalha naval\nfor i in range(1, N + 1):\n    print(i, end=\" \")\n    for j in range(1, M + 1):\n        print(\"/\", end=\" \")\n    print()\n\n",
      "metadata": {},
      "outputs": [],
      "execution_count": null
    },
    {
      "id": "4654dc0b",
      "cell_type": "markdown",
      "source": "---\n## Break e Continue",
      "metadata": {}
    },
    {
      "id": "24fe9d85",
      "cell_type": "markdown",
      "source": "### Q6.\n\nEscreva um programa que lê uma quantidade indefinida de valores e informa o maior e o menor valor digitados. A leitura é encerrada quando o usuário digitar o valor 0 (zero).\n\n```\nEntrada:\n12\n-1\n29\n11\n-5\n0\n\nSaída:\nMaior: 29\nMenor: -5\n```",
      "metadata": {}
    },
    {
      "id": "ee1c466a",
      "cell_type": "code",
      "source": "# Inicializa as variáveis para armazenar o maior e o menor valor\nmaior = float('-inf')  # valor inicial para garantir que qualquer número seja maior que ele\nmenor = float('inf')   # valor inicial para garantir que qualquer número seja menor que ele\n\n# Loop para ler os valores\nwhile True:\n    valor = float(input(\"Digite um valor (digite 0 para sair): \"))\n    \n    # Verifica se o valor digitado é 0 para encerrar o loop\n    if valor == 0:\n        break\n    \n    # Atualiza o maior e o menor valor\n    maior = max(maior, valor)\n    menor = min(menor, valor)\n\n# Imprime o maior e o menor valor\nprint(\"Maior:\", maior)\nprint(\"Menor:\", menor)\n\n",
      "metadata": {},
      "outputs": [],
      "execution_count": null
    },
    {
      "id": "30d486f7",
      "cell_type": "markdown",
      "source": "### Q7.\n\nEscreva um programa que lê uma quantidade indefinida de valores e informa o **produto** dos valores positivos digitados. A leitura é encerrada quando o usuário digitar o valor 0 (zero).\n\n```\nEntrada:\n2\n-1\n1\n3\n-5\n0\n\nSaída:\nProduto: 6\n```",
      "metadata": {}
    },
    {
      "id": "2f1ac324",
      "cell_type": "code",
      "source": "produto = 1  # Inicializa o produto como 1\n\n# Loop para ler os valores\nwhile True:\n    valor = int(input(\"Digite um valor (digite 0 para sair): \"))\n    \n    # Verifica se o valor digitado é 0 para encerrar o loop\n    if valor == 0:\n        break\n    \n    # Verifica se o valor é positivo e atualiza o produto\n    if valor > 0:\n        produto *= valor\n\n# Imprime o produto dos valores positivos\nprint(\"Produto dos valores positivos:\", produto)\n\n",
      "metadata": {},
      "outputs": [],
      "execution_count": null
    },
    {
      "id": "e932f3cf",
      "cell_type": "markdown",
      "source": "### Q8.\n\nVamos fazer uma calculadora que aceita expressões aritméticas de qualquer tamanho até que o usuário digite a palavra \"Fim\". Sua calculadora executa apenas as operações \"+\", \"-\".\n\n```\nEntrada:\n5\n+\n8\n-\n3\n+\n2\nFim\n\nSaída:\n12\n```",
      "metadata": {}
    },
    {
      "id": "e835d870",
      "cell_type": "code",
      "source": "resultado = 0\noperacao = \"+\"\n\nwhile True:\n    entrada = input(\"Digite um número ou 'Fim' para encerrar: \")\n    \n    if entrada == \"Fim\":\n        break\n    \n    if operacao == \"+\":\n        resultado += int(entrada)\n    elif operacao == \"-\":\n        resultado -= int(entrada)\n    \n    operacao = input(\"Digite uma operação (+ ou -): \")\n\nprint(\"Resultado:\", resultado)\n",
      "metadata": {},
      "outputs": [],
      "execution_count": null
    }
  ]
}