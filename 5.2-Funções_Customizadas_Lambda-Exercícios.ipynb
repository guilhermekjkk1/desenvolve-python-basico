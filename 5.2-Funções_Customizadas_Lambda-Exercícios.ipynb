{
  "metadata": {
    "kernelspec": {
      "name": "python",
      "display_name": "Python (Pyodide)",
      "language": "python"
    },
    "language_info": {
      "codemirror_mode": {
        "name": "python",
        "version": 3
      },
      "file_extension": ".py",
      "mimetype": "text/x-python",
      "name": "python",
      "nbconvert_exporter": "python",
      "pygments_lexer": "ipython3",
      "version": "3.8"
    }
  },
  "nbformat_minor": 5,
  "nbformat": 4,
  "cells": [
    {
      "id": "cbdff5a5",
      "cell_type": "markdown",
      "source": "# Módulo 5 - Funções\n\n## Aulas 5.2 - Funções Customizadas e 5.4 Funções ```lambda```",
      "metadata": {}
    },
    {
      "id": "28a3fee2",
      "cell_type": "markdown",
      "source": "### Q1.\n\n- Sabendo que o código a seguir calcula o fatorial de n, escreva uma função chamada ```fatorial()``` que recebe um inteiro ```n``` como parâmetro e retorna o resultado do fatorial de ```n```. \n- No programa principal, peça ao usuário o valor de ```n```, chame a sua função e imprima o retorno.\n\n```python\nfat = 1\nfor i in range(1, n+1):\n    fat *= i \n```",
      "metadata": {}
    },
    {
      "id": "d126b3a5",
      "cell_type": "code",
      "source": "def fatorial(n):\n    if n == 0:\n        return 1\n    else:\n        return n * fatorial(n - 1)\n",
      "metadata": {},
      "outputs": [],
      "execution_count": null
    },
    {
      "id": "6e4fe64e",
      "cell_type": "code",
      "source": "\n\ndef main():\n    try:\n        n = int(input(\"Digite um número inteiro para calcular o fatorial: \"))\n        if n < 0:\n            print(\"O fatorial não está definido para números negativos.\")\n        else:\n            resultado = fatorial(n)\n            print(f\"O fatorial de {n} é: {resultado}\")\n    except ValueError:\n        print(\"Por favor, insira um número inteiro válido.\")\n\nif __name__ == \"__main__\":\n    main()\n\n",
      "metadata": {},
      "outputs": [],
      "execution_count": null
    },
    {
      "id": "c0a1f599",
      "cell_type": "markdown",
      "source": "### Q2.\n\n- Escreva uma função em Python chamada ```soma_quadrados``` que recebe dois números como parâmetros e retorna a soma dos seus quadrados. \n- No programa principal solicite ao usuário que insira dois números e utilize a função para exibir a soma dos quadrados.",
      "metadata": {}
    },
    {
      "id": "6dbddaad",
      "cell_type": "code",
      "source": "def soma_quadrados(num1, num2):\n    soma = num1**2 + num2**2\n    return soma\n",
      "metadata": {},
      "outputs": [],
      "execution_count": null
    },
    {
      "id": "9175a7da",
      "cell_type": "code",
      "source": "def main():\n    try:\n        num1 = float(input(\"Digite o primeiro número: \"))\n        num2 = float(input(\"Digite o segundo número: \"))\n        \n        resultado = soma_quadrados(num1, num2)\n        print(f\"A soma dos quadrados de {num1} e {num2} é: {resultado}\")\n    except ValueError:\n        print(\"Por favor, insira números válidos.\")\n\nif __name__ == \"__main__\":\n    main()\n",
      "metadata": {},
      "outputs": [],
      "execution_count": null
    },
    {
      "id": "6ba34ce0",
      "cell_type": "markdown",
      "source": "### Q3.\n\n- Crie uma função em Python chamada ```soma_digitos``` que recebe um número inteiro como parâmetro e retorna a soma dos seus dígitos. Por exemplo, para o número 123, a função deve retornar 6, $(1 + 2 + 3)$.\n    - O desafio aqui é separar os dígitos de um número inteiro usando operações aritméticas <br> <br>\n\n- No programa principal solicite ao usuário que insira um número e utilize a função ```soma_digitos``` para calcular e exibir a soma dos seus dígitos.",
      "metadata": {}
    },
    {
      "id": "34838ebf",
      "cell_type": "code",
      "source": "def soma_digitos(numero):\n    soma = 0\n    # Enquanto houver dígitos no número\n    while numero > 0:\n        # Obtém o último dígito do número\n        digito = numero % 10\n        # Adiciona o dígito à soma\n        soma += digito\n        # Remove o último dígito do número\n        numero //= 10\n    return soma\n",
      "metadata": {},
      "outputs": [],
      "execution_count": null
    },
    {
      "id": "27c35b21",
      "cell_type": "code",
      "source": "def main():\n    try:\n        numero = int(input(\"Digite um número inteiro: \"))\n        resultado = soma_digitos(numero)\n        print(f\"A soma dos dígitos de {numero} é: {resultado}\")\n    except ValueError:\n        print(\"Por favor, insira um número inteiro válido.\")\n\nif __name__ == \"__main__\":\n",
      "metadata": {},
      "outputs": [],
      "execution_count": null
    },
    {
      "id": "c318b159",
      "cell_type": "markdown",
      "source": "### Q4.\n\n- Crie a função ```inverteValor()``` que recebe um inteiro de qualquer tamanho e retorna esse valor invertido usando apenas operações aritméticas\n- Crie a função ```verificaInverso()``` que recebe o valor original e o valor invertido e retorna verdadeiro se ambos forem igualmente par ou igualmente ímpar. Retorne falso caso contrário.\n- No programa principal, peça um valor do usuário e imprima o retorno de ambas as funções.\n",
      "metadata": {}
    },
    {
      "id": "e4e47d1d",
      "cell_type": "code",
      "source": "def inverteValor(numero):\n    valor_invertido = 0\n    resto = 0\n    \n    # Inverte o número\n    while numero != 0:\n        resto = numero % 10\n        valor_invertido = (valor_invertido * 10) + resto\n        numero = numero // 10\n        \n    return valor_invertido\n\ndef verificaInverso(numero_original, numero_invertido):\n    # Verifica se ambos os números são igualmente pares ou igualmente ímpares\n    return (numero_original % 2 == numero_invertido % 2)\n\n",
      "metadata": {},
      "outputs": [],
      "execution_count": null
    },
    {
      "id": "a9514e56",
      "cell_type": "code",
      "source": "def main():\n    try:\n        numero = int(input(\"Digite um número inteiro: \"))\n        \n        valor_invertido = inverteValor(numero)\n        print(\"Valor invertido:\", valor_invertido)\n        \n        resultado_verificacao = verificaInverso(numero, valor_invertido)\n        if resultado_verificacao:\n            print(\"O número original e o número invertido são igualmente par ou igualmente ímpar.\")\n        else:\n            print(\"O número original e o número invertido não são igualmente par ou igualmente ímpar.\")\n    except ValueError:\n        print(\"Por favor, insira um número inteiro válido.\")\n\nif __name__ == \"__main__\":\n    main()\n",
      "metadata": {},
      "outputs": [],
      "execution_count": null
    },
    {
      "id": "329be966",
      "cell_type": "markdown",
      "source": "### Q5.\n\nVocê está desenvolvendo um programa para auxiliar em cálculos de geometria básica. Crie as seguintes funções:\n- A função ```calcula_perimetro_triangulo()``` que recebe três inteiros correspondentes aos lados de um triângulo e retorna o perímetro do triângulo, ou seja, a soma dos seus lados.\n- A função ```calcula_perimetro_circulo()``` que recebe um inteiro referente ao raio do círculo e retorna o perímetro do círculo, dado por $2 \\pi r$. Use a constante $\\pi$ da biblioteca ```math```.\n- A função ```calcula_perimetro_retangulo()``` que possui um parâmetro obrigatório ```lado1``` e um opcional ```lado2```, ambos inteiros. Se o valor opcional não for fornecido, significa que se trata de um quadrado. Sua função deve calcular e retornar o perímetro do retângulo, ou seja, a soma de seus lados. \n    - Para o quadrado, é dado por $4 \\times lado1$\n    - Para o retângulo é dado por $2 \\times lado1 + 2 \\times lado2$\n    \n- No programa principal apresente um menu com as opções disponíveis do seu sistema e uma quarta opção ```Sair```. Solicite ao usuário a opção desejada, solicite as entradas correspondentes à opção escolhida, invoque a respective função e apresente o seu retorno. Seu programa deve retornar ao menu até que o usuário escolha a opção ```Sair```\n\nExemplo de interação:\n```\n1 - Calcular perímetro triângulo\n2 - Calcular perímetro círculo\n3 - Calcular perímetro retângulo\n4 - Sair\n\nOpção: 1\nDigite os três lados do triângulo:\n3\n4\n5\nO perímetro é: 12\n\n1 - Calcular perímetro triângulo\n2 - Calcular perímetro círculo\n3 - Calcular perímetro retângulo\n4 - Sair\n\nOpção: 3\nInforme os dois lados do retângulo. Se for um quadrado, digite 0 para o segundo valor:\n5\n0\nO perímetro é: 20\n\n1 - Calcular perímetro triângulo\n2 - Calcular perímetro círculo\n3 - Calcular perímetro retângulo\n4 - Sair\n\nOpção: 4\n```",
      "metadata": {}
    },
    {
      "id": "0793d328",
      "cell_type": "code",
      "source": "import math\n\ndef calcula_perimetro_triangulo(lado1, lado2, lado3):\n    return lado1 + lado2 + lado3\n\ndef calcula_perimetro_circulo(raio):\n    return 2 * math.pi * raio\n\ndef calcula_perimetro_retangulo(lado1, lado2=None):\n    if lado2 is None:\n        return 4 * lado1  # Perímetro de um quadrado\n    else:\n        return 2 * (lado1 + lado2)  # Perímetro de um retângulo\n\ndef menu():\n    print(\"\\nMenu:\")\n    print(\"1. Calcular perímetro de um triângulo\")\n    print(\"2. Calcular perímetro de um círculo\")\n    print(\"3. Calcular perímetro de um retângulo/quadrado\")\n    print(\"4. Sair\")\n\n",
      "metadata": {},
      "outputs": [],
      "execution_count": null
    },
    {
      "id": "36269c71",
      "cell_type": "code",
      "source": "def main():\n    while True:\n        menu()\n        opcao = input(\"Escolha uma opção: \")\n\n        if opcao == '1':\n            lado1 = float(input(\"Digite o valor do primeiro lado do triângulo: \"))\n            lado2 = float(input(\"Digite o valor do segundo lado do triângulo: \"))\n            lado3 = float(input(\"Digite o valor do terceiro lado do triângulo: \"))\n            perimetro = calcula_perimetro_triangulo(lado1, lado2, lado3)\n            print(\"O perímetro do triângulo é:\", perimetro)\n        elif opcao == '2':\n            raio = float(input(\"Digite o valor do raio do círculo: \"))\n            perimetro = calcula_perimetro_circulo(raio)\n            print(\"O perímetro do círculo é:\", perimetro)\n        elif opcao == '3':\n            lado1 = float(input(\"Digite o valor do primeiro lado do retângulo/quadrado: \"))\n            opcao_retangulo = input(\"O retângulo é quadrado? (s/n): \").lower()\n            if opcao_retangulo == 's':\n                perimetro = calcula_perimetro_retangulo(lado1)\n            else:\n                lado2 = float(input(\"Digite o valor do segundo lado do retângulo: \"))\n                perimetro = calcula_perimetro_retangulo(lado1, lado2)\n            print(\"O perímetro do retângulo/quadrado é:\", perimetro)\n        elif opcao == '4':\n            print(\"Encerrando o programa...\")\n            break\n        else:\n            print(\"Opção inválida. Por favor, escolha uma opção válida.\")\n\nif __name__ == \"__main__\":\n    main()",
      "metadata": {},
      "outputs": [],
      "execution_count": null
    },
    {
      "id": "3016bcc7",
      "cell_type": "markdown",
      "source": "## Funções ```lambda```",
      "metadata": {}
    },
    {
      "id": "f9cdb8dd",
      "cell_type": "markdown",
      "source": "### Q6.\n\nCrie uma função lambda para verificar se um número é par ou ímpar. Em seguida, solicite ao usuário um número indefinidos de valores (até que o usuário digite 0). Para cada valor de entrada, informe se é par ou ímpar.\n\nExemplo de interação:\n```\nDigite os valores que deseja verificar a paridade (digite 0 para finalizar a entrada de dados):\n3\nímpar\n8\npar\n12\npar\n5\nímpar\n7ímpar\n```",
      "metadata": {}
    },
    {
      "id": "e3c31a78",
      "cell_type": "code",
      "source": "# Função lambda para verificar se um número é par ou ímpar\nverificar_par_impar = lambda num: \"Par\" if num % 2 == 0 else \"Ímpar\"\n\n# Solicitar ao usuário valores até que ele digite 0\nwhile True:\n    try:\n        numero = int(input(\"Digite um número (digite 0 para sair): \"))\n        if numero == 0:\n            break\n        \n        resultado = verificar_par_impar(numero)\n        print(f\"O número {numero} é {resultado}.\")\n    except ValueError:\n        print(\"Por favor, insira um número inteiro válido.\")\n\nprint(\"Programa encerrado.\")\n",
      "metadata": {},
      "outputs": [],
      "execution_count": null
    },
    {
      "id": "5a87474d",
      "cell_type": "markdown",
      "source": "### Q7.\n\nEscreva um programa que pergunte ao usuário qual operação ele deseja: maior ou menor.\nEm seguida leia uma quantidade indefinida de valores do usuário, até que o usuário digite o valor zero.\nApresente ao final o maior ou menor dos valores digitados de acordo com a escolha do usuário.\n\n**Sua solução deve incluir pelo menos uma função ```lambda```** \n\nExemplo de interação:\n```\nOpções: (1) maior ou (2) menor?\nOpção: 1\n\nDigite os valores de entrada. Digite 0 para finalizar a entrada de valores.\n4\n12\n15\n1\n0\n\nO maior valor é: 15\n```",
      "metadata": {}
    },
    {
      "id": "ee3f68ca",
      "cell_type": "code",
      "source": "# Função lambda para determinar o maior valor de uma lista\nencontrar_maior = lambda lista: max(lista)\n\n# Função lambda para determinar o menor valor de uma lista\nencontrar_menor = lambda lista: min(lista)\n\ndef main():\n    operacao = input(\"Qual operação você deseja realizar? (maior/menor): \").lower()\n    \n    if operacao == \"maior\":\n        funcao_operacao = encontrar_maior\n    elif operacao == \"menor\":\n        funcao_operacao = encontrar_menor\n    else:\n        print(\"Operação inválida. Por favor, escolha 'maior' ou 'menor'.\")\n        return\n    \n    valores = []\n    \n    while True:\n        try:\n            valor = float(input(\"Digite um valor (digite 0 para sair): \"))\n            if valor == 0:\n                break\n            valores.append(valor)\n        except ValueError:\n            print(\"Por favor, insira um valor numérico válido.\")\n\n    if valores:\n        resultado = funcao_operacao(valores)\n        print(f\"O {operacao} valor digitado é: {resultado}\")\n    else:\n        print(\"Nenhum valor foi digitado.\")\n\nif __name__ == \"__main__\":\n    main()\n\n",
      "metadata": {},
      "outputs": [],
      "execution_count": null
    }
  ]
}