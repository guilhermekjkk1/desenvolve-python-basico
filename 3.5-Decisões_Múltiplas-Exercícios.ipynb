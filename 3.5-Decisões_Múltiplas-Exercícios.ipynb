{
  "metadata": {
    "kernelspec": {
      "name": "python",
      "display_name": "Python (Pyodide)",
      "language": "python"
    },
    "language_info": {
      "codemirror_mode": {
        "name": "python",
        "version": 3
      },
      "file_extension": ".py",
      "mimetype": "text/x-python",
      "name": "python",
      "nbconvert_exporter": "python",
      "pygments_lexer": "ipython3",
      "version": "3.8"
    }
  },
  "nbformat_minor": 5,
  "nbformat": 4,
  "cells": [
    {
      "id": "559687a1",
      "cell_type": "markdown",
      "source": "# Módulo 3 - Condicionais\n\n## 3.5 - Decisões Múltiplas",
      "metadata": {}
    },
    {
      "id": "42f823b3",
      "cell_type": "markdown",
      "source": "### Q1.\n\nVamos fazer uma calculadora! Escreva um programa que solicita 3 entradas: o primeiro operando (float), o operador (caracter) e o segundo operando (float). Seu programa deve imprimir o resultado da operação solicitada, entre soma (+), subtração (-), divisão (/), multiplicação (\\*) ou potência (\\*\\*). Seu programa também deve imprimir uma mensagem de erro se a operação solicitada não estiver dentre as opções disponíveis.\n\nSeguem alguns exemplos de interação com seu código no terminal. \n\n\n```\nDigite o primeiro operando: 5.2\nDigite o operador (+, -, /, *, **): *\nDigite o segundo operando` 3\nResultado: 5.2 * 3.0 = 15.6\n```\n\n```\nDigite o primeiro operando: 8\nDigite o operador (+, -, /, *, **): **\nDigite o segundo operando: 2\nResultado: 8.0 * 2.0 = 64.0\n```\n\n```\nDigite o primeiro operando: 7\nDigite o operador (+, -, /, *, **): %\nDigite o segundo operando: 3.4\nErro! Operação inválida. \n```\n\n```\nDigite o primeiro operando: 10\nDigite o operador (+, -, /, *, **): /\nDigite o segundo operando: 2.5\nResultado: 10.0 / 2.5 = 4.0\n```\n\n",
      "metadata": {}
    },
    {
      "id": "c5b8cd4d",
      "cell_type": "code",
      "source": "def calcular(operando1, operador, operando2):\n    if operador == '+':\n        return operando1 + operando2\n    elif operador == '-':\n        return operando1 - operando2\n    elif operador == '/':\n        if operando2 != 0:  # Evita divisão por zero\n            return operando1 / operando2\n        else:\n            return \"Erro: divisão por zero!\"\n    elif operador == '*':\n        return operando1 * operando2\n    elif operador == '**':\n        return operando1 ** operando2\n    else:\n        return \"Erro: operador inválido!\"\n\ndef main():\n    operando1 = float(input(\"Digite o primeiro operando: \"))\n    operador = input(\"Digite o operador (+, -, /, *, **): \")\n    operando2 = float(input(\"Digite o segundo operando: \"))\n\n    resultado = calcular(operando1, operador, operando2)\n\n    print(\"Resultado:\", resultado)\n\nif __name__ == \"__main__\":\n    main()\n\n",
      "metadata": {},
      "outputs": [],
      "execution_count": null
    },
    {
      "id": "d135df39",
      "cell_type": "markdown",
      "source": "### Q2.\n\nEscreva um programa que leia os comprimentos dos 3 lados de um triângulo e diga se o triângulo é equilátero, isóceles ou escaleno. Regras:\n- Isóceles: Quaisquer dois lados com o mesmo comprimento\n- Equilátero: Os três lados tem o mesmo comprimento\n- Escaleno: Três lados de comprimento diferente \n\nNote que a ordem das condições importa! Seguem alguns exemplos de interação com seu código no terminal. \n\n```\nDigite o comprimento do lado 1: 4\nDigite o comprimento do lado 2: 4\nDigite o comprimento do lado 3: 6\nTriângulo: Isóceles\n```\n\n```\nDigite o comprimento do lado 1: 5\nDigite o comprimento do lado 2: 5\nDigite o comprimento do lado 3: 5\nTriângulo: Equilátero\n```\n\n```\nDigite o comprimento do lado 1: 7\nDigite o comprimento do lado 2: 4\nDigite o comprimento do lado 3: 9\nTriângulo: Escaleno\n```\n\n",
      "metadata": {}
    },
    {
      "id": "cfcf9a80",
      "cell_type": "code",
      "source": "def tipo_triangulo(lado1, lado2, lado3):\n    if lado1 == lado2 == lado3:\n        return \"Equilátero\"\n    elif lado1 == lado2 or lado1 == lado3 or lado2 == lado3:\n        return \"Isósceles\"\n    else:\n        return \"Escaleno\"\n\ndef main():\n    lado1 = float(input(\"Digite o comprimento do primeiro lado do triângulo: \"))\n    lado2 = float(input(\"Digite o comprimento do segundo lado do triângulo: \"))\n    lado3 = float(input(\"Digite o comprimento do terceiro lado do triângulo: \"))\n\n    tipo = tipo_triangulo(lado1, lado2, lado3)\n\n    print(\"O triângulo é:\", tipo)\n\nif __name__ == \"__main__\":\n    main()\n\n",
      "metadata": {},
      "outputs": [],
      "execution_count": null
    },
    {
      "id": "ed3405fb",
      "cell_type": "markdown",
      "source": "### Q3.\n\nVocê está desenvolvendo um sistema de avaliação de desempenho para um jogo. Escreva um programa em Python que avalia a pontuação do jogador em uma missão e atribui uma classificação com base nas seguintes condições:\n\n- Se a pontuação for menor que 70, atribua a classificação \"Insatisfatório\".\n- Se a pontuação for maior ou igual a 70, atribua a classificação \"Regular\".\n- Se a pontuação for maior ou igual a 80, atribua a classificação \"Bom\".\n- Se a pontuação for maior ou igual a 90, atribua a classificação \"Excelente\".\n\nEscreva um programa que solicita ao usuário a pontuação e imprime a classificação correspondente.",
      "metadata": {}
    },
    {
      "id": "a7a842ae",
      "cell_type": "code",
      "source": "def classificar_jogo(avaliacao):\n    if avaliacao == 90:\n        return \"Excelente.\"\n    elif avaliacao == 80:\n        return \"Bom.\"\n    elif avaliacao == 70:\n        return \"Regular.\"\n    elif avaliacao == 60:\n        return \"Insatisfatório.\"\n\ndef main():\n    avaliacao = int(input(\"Insira a pontuação: \"))\n\n    mensagem = classificar_jogo(avaliacao)\n\n    print(mensagem)\n\nif __name__ == \"__main__\":\n    main()\n\n",
      "metadata": {},
      "outputs": [],
      "execution_count": null
    },
    {
      "id": "6cafaa50",
      "cell_type": "markdown",
      "source": "### Q4.\n\nVocê está implementando um sistema de desconto em uma loja online. Escreva um programa em Python que calcula o desconto com base no valor total da compra e atribui diferentes níveis de desconto de acordo com as seguintes condições:\n\n- Se o valor total da compra for menor que R\\$ 50, não há desconto.\n- Se o valor total da compra for maior ou igual a R\\$ 50, atribua um desconto de 10%.\n- Se o valor total da compra for maior ou igual a R\\$ 100, atribua um desconto de 20%.\n\n\nSeguem alguns exemplos de interação com seu código no terminal. Preste atenção na formatação esperada para as saídas.\n\n```\nDigite o valor total da compra: 120\nDesconto aplicado: 20.0%\nValor final com desconto: R$96.00\n```\n\n```\nDigite o valor total da compra: 65\nDesconto aplicado: 10.0%\nValor final com desconto: R$58.50\n```\n\n```\nDigite o valor total da compra: 40\nDesconto aplicado: 0.0%\nValor final com desconto: R$40.00\n```\n\n\n",
      "metadata": {}
    },
    {
      "id": "3b1b1929",
      "cell_type": "code",
      "source": "def calcular_desconto(valor_total):\n    if valor_total < 50:\n        desconto = 0\n    elif valor_total < 100:\n        desconto = 0.1 * valor_total\n    else:\n        desconto = 0.2 * valor_total\n    return desconto\n\ndef main():\n    valor_total = float(input(\"Digite o valor total da compra: R$ \"))\n\n    desconto = calcular_desconto(valor_total)\n\n    if desconto == 0:\n        print(\"Não há desconto.\")\n    else:\n        print(f\"Desconto de R$ {desconto:.2f} aplicado.\")\n\nif __name__ == \"__main__\":\n    main()\n\n",
      "metadata": {},
      "outputs": [],
      "execution_count": null
    },
    {
      "id": "dc5db6d7",
      "cell_type": "markdown",
      "source": "### Q5.\n\nVocê está projetando um sistema de autenticação baseado na análise da íris (parte colorida do olho). Ao acionado, o sistema coleta e retorna 3 valores inteiros referentes a atributos da íris visível. Mas o sistema não é perfeito, tendo uma margem de erro do sensor de +/- $5$. \n\nO código abaixo tem os atributos dos 4 usuários cadastrados no sistema. Você deve completar om código, pedindo ao usuário para inserir uma nova leitura de padrão de íris. O programa deve comparar o padrão inserido com os padrões cadastrados no banco de dados. Se o padrão estiver dentro da tolerância estabelecida, o usuário é autenticado com sucesso. Caso contrário, a autenticação falha.\n\n**Dica:** A função do python ```abs()``` retorna o valor absoluto de um elemento. Ex: \n```\n>>> print(abs(987-982))\n5\n>>> print(abs(987-992))\n5\n```\n\nSeguem alguns exemplos de interação com seu código no terminal.\n\n```\nInsira o padrão de íris para autenticação.\nAtributo 1: 111\nAtributo 2: 222\nAtributo 3: 333\nAutenticação bem-sucedida! \nUsuário: 3\n```\n\n```\nInsira o padrão de íris para autenticação.\nAtributo 1: 111\nAtributo 2: 200\nAtributo 3: 333\nAutenticação falhou! \n```\n\n```\nInsira o padrão de íris para autenticação.\nAtributo 1: 982\nAtributo 2: 653\nAtributo 3: 324\nAutenticação bem-sucedida! \nUsuário: 2\n```",
      "metadata": {}
    },
    {
      "id": "b90304eb",
      "cell_type": "code",
      "source": "## Não altere os atributos definidos a seguir\niris1_a1, iris1_a2, iris1_a3 = 123, 456, 789\niris2_a1, iris2_a2, iris2_a3 = 987, 654, 321\niris3_a1, iris3_a2, iris3_a3 = 111, 222, 333\niris4_a1, iris4_a2, iris4_a3 = 444, 555, 666\n\n# Padrões cadastrados no sistema\nusuarios = {\n    \"Usuario1\": [982, 734, 876],\n    \"Usuario2\": [1045, 821, 913],\n    \"Usuario3\": [893, 645, 789],\n    \"Usuario4\": [1056, 788, 922]\n}\n\n# Tolerância para a comparação dos padrões de íris\ntolerancia = 5  # Suponha que a tolerância seja de +/- 5\n\n# Função para autenticar o usuário com base no padrão de íris fornecido\ndef autenticar_usuario(padrao_usuario):\n    for usuario, padrao_cadastrado in usuarios.items():\n        diferenca1 = abs(padrao_usuario[0] - padrao_cadastrado[0])\n        diferenca2 = abs(padrao_usuario[1] - padrao_cadastrado[1])\n        diferenca3 = abs(padrao_usuario[2] - padrao_cadastrado[2])\n\n        if diferenca1 <= tolerancia and diferenca2 <= tolerancia and diferenca3 <= tolerancia:\n            return f\"Usuário autenticado: {usuario}\"\n    return \"Falha na autenticação: Padrão de íris não reconhecido.\"\n\ndef main():\n    # Solicitar ao usuário para inserir o padrão de íris\n    padrao_usuario = []\n    for i in range(3):\n        valor = int(input(f\"Insira o valor do atributo {i+1} da íris: \"))\n        padrao_usuario.append(valor)\n\n    # Autenticar o usuário\n    resultado = autenticar_usuario(padrao_usuario)\n    print(resultado)\n\nif __name__ == \"__main__\":\n    main()\n\n",
      "metadata": {},
      "outputs": [],
      "execution_count": 1
    }
  ]
}